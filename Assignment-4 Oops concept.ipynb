{
 "cells": [
  {
   "cell_type": "markdown",
   "metadata": {},
   "source": [
    "### Q.1.1Write a Python Program(with class concepts) to find the area of the triangle using the below formula.                                                                                                                                                                                                                                                                                                                                                                                                                                                                 area = (s*(s-a)*(s-b)*(s-c)) ** 0.5                                                                                                                                                                                                                                                                                                                          Function to take the length of the sides of triangle from user should be defined in the parent class and function to calculate the area should be defined in subclass.  "
   ]
  },
  {
   "cell_type": "code",
   "execution_count": 102,
   "metadata": {},
   "outputs": [
    {
     "name": "stdout",
     "output_type": "stream",
     "text": [
      "Area Of Triangle is 65.241379\n",
      "Sides of The Polygon are 3\n",
      "None\n"
     ]
    }
   ],
   "source": [
    "class Polygon:\n",
    "    def __init__(self,sides_of_Polygon):\n",
    "        self.sides1 = sides_of_Polygon\n",
    "        \n",
    "    def sid(self):\n",
    "        print(\"Sides of The Polygon are %d\"%self.sides1)\n",
    "    \n",
    "    \n",
    "    \n",
    "class Triangle(Polygon):\n",
    "    def __init__(self,sides_of_triangle):\n",
    "        super(Triangle,self).__init__(3)\n",
    "        self.sides= sides_of_triangle\n",
    "        \n",
    "    #area of Triangle\n",
    "    \n",
    "    def area(self):\n",
    "        #sides assigning\n",
    "        a,b,c = self.sides\n",
    "        \n",
    "        \n",
    "        #Perimeters for the given side \n",
    "        \n",
    "        s= (a+b+c)/2\n",
    "     \n",
    "        #area of triangle\n",
    "        \n",
    "        area_triangle = (s*(s-a)*(s-b)*(s-c)) ** 0.5\n",
    "       \n",
    "        return (\"Area Of Triangle is %f\"%(area_triangle))\n",
    "    \n",
    "    \n",
    "        \n",
    "    \n",
    "        \n",
    "    \n",
    "# sides_input = int(input(\"Enter the sides of Polygon: \"))\n",
    "p=Polygon(3)\n",
    "\n",
    "t= Triangle([12,22,13])\n",
    "\n",
    "print(t.area())\n",
    "print(t.sid())"
   ]
  },
  {
   "cell_type": "markdown",
   "metadata": {},
   "source": [
    "### Q1.2 Write a function filter_long_words() that takes a list of words and an integer n and returns the list of words that are longer than n."
   ]
  },
  {
   "cell_type": "code",
   "execution_count": 109,
   "metadata": {},
   "outputs": [
    {
     "name": "stdout",
     "output_type": "stream",
     "text": [
      "['1221', 'bhgsskknb']\n"
     ]
    }
   ],
   "source": [
    "def filter_long_words(lst,n):\n",
    "    final =[]\n",
    "    for i in lst:\n",
    "        if(len(i)>n):\n",
    "            final.append(i)\n",
    "    print(final)\n",
    "            \n",
    "        \n",
    "\n",
    "        \n",
    "        \n",
    "check = ['abc', 'xyz', 'aba', '1221','bhgsskknb','aa']\n",
    "\n",
    "filter_long_words(check,3)"
   ]
  },
  {
   "cell_type": "markdown",
   "metadata": {},
   "source": [
    "### Q2.1 Write a Python program using function concept that maps list of words into a list of integers representing the lengths of the corresponding words.                                                                                                                                       Hint: If a list [ ab,cde,erty] is passed on to the python function output should come as [2,3,4]                                                           Here 2,3 and 4 are the lengths of the words in the list."
   ]
  },
  {
   "cell_type": "code",
   "execution_count": 112,
   "metadata": {},
   "outputs": [
    {
     "name": "stdout",
     "output_type": "stream",
     "text": [
      "[3, 3, 3, 4, 9, 2]\n"
     ]
    }
   ],
   "source": [
    "lst = ['abc', 'xyz', 'aba', '1221','bhgsskknb','aa']\n",
    "\n",
    "\n",
    "def len_of_list(lst):\n",
    "    final = []\n",
    "    for i in lst:\n",
    "        final.append(len(i))\n",
    "    \n",
    "    print(final)\n",
    "\n",
    "len_of_list(lst)   "
   ]
  },
  {
   "cell_type": "markdown",
   "metadata": {},
   "source": [
    "### Q2.2 Write a Python function which takes a character (i.e. a string of length 1) and returns True if it is a vowel, False otherwise."
   ]
  },
  {
   "cell_type": "code",
   "execution_count": 119,
   "metadata": {},
   "outputs": [
    {
     "data": {
      "text/plain": [
       "True"
      ]
     },
     "execution_count": 119,
     "metadata": {},
     "output_type": "execute_result"
    }
   ],
   "source": [
    "\n",
    "\n",
    "def check_vowel(char):\n",
    "    vowel = ['a','e','i','o','u']\n",
    "    flag = False\n",
    "    for i in vowel:\n",
    "        if (char.lower() == i):\n",
    "            flag= True\n",
    "            \n",
    "    return(flag)\n",
    "      \n",
    "check_vowel('A')"
   ]
  },
  {
   "cell_type": "code",
   "execution_count": null,
   "metadata": {},
   "outputs": [],
   "source": []
  }
 ],
 "metadata": {
  "kernelspec": {
   "display_name": "Python 3",
   "language": "python",
   "name": "python3"
  },
  "language_info": {
   "codemirror_mode": {
    "name": "ipython",
    "version": 3
   },
   "file_extension": ".py",
   "mimetype": "text/x-python",
   "name": "python",
   "nbconvert_exporter": "python",
   "pygments_lexer": "ipython3",
   "version": "3.7.6"
  }
 },
 "nbformat": 4,
 "nbformat_minor": 4
}
